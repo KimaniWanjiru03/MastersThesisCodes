{
 "cells": [
  {
   "attachments": {},
   "cell_type": "markdown",
   "metadata": {},
   "source": [
    "## USING SUPPORT VECTOR MACHINE"
   ]
  },
  {
   "cell_type": "code",
   "execution_count": 57,
   "metadata": {},
   "outputs": [],
   "source": [
    "import pandas as pd\n",
    "import numpy as np\n",
    "from sklearn.model_selection import train_test_split\n",
    "from sklearn import svm\n",
    "from sklearn.svm import LinearSVC\n",
    "from sklearn.svm import SVC"
   ]
  },
  {
   "cell_type": "code",
   "execution_count": 58,
   "metadata": {},
   "outputs": [],
   "source": [
    "df = pd.read_csv('new_data3.csv')"
   ]
  },
  {
   "cell_type": "code",
   "execution_count": 59,
   "metadata": {},
   "outputs": [],
   "source": [
    "X_demograph = df.loc[:, ['Motive','Income Range','Gender','Education level','Number of Children','Age range','Occupation']]\n",
    "y_demograph = df['Insured']"
   ]
  },
  {
   "cell_type": "code",
   "execution_count": 60,
   "metadata": {},
   "outputs": [],
   "source": [
    "from imblearn.over_sampling import SMOTE\n",
    "smote = SMOTE()\n",
    "\n",
    "X_dem_resampled, y_dem_resampled = smote.fit_resample(X_demograph, y_demograph)"
   ]
  },
  {
   "cell_type": "code",
   "execution_count": 61,
   "metadata": {},
   "outputs": [],
   "source": [
    "X_train_dem, X_test_dem, y_train_dem, y_test_dem = train_test_split(X_dem_resampled,y_dem_resampled, test_size = 0.3)"
   ]
  },
  {
   "attachments": {},
   "cell_type": "markdown",
   "metadata": {},
   "source": [
    "**FITTING THE DEMOGRAPHIC MODEL**"
   ]
  },
  {
   "cell_type": "code",
   "execution_count": 62,
   "metadata": {},
   "outputs": [],
   "source": [
    "clfd = svm.SVC()\n",
    "clfd.fit(X_train_dem, y_train_dem)\n",
    "\n",
    "\n",
    "# predict on the train set\n",
    "y_train_pred_dem = clfd.predict(X_train_dem)\n",
    "# predict on the test set\n",
    "y_test_pred_dem = clfd.predict(X_test_dem)\n"
   ]
  },
  {
   "cell_type": "code",
   "execution_count": 63,
   "metadata": {},
   "outputs": [
    {
     "name": "stdout",
     "output_type": "stream",
     "text": [
      "Accuracy: 0.75\n",
      "Precision: 0.6521739130434783\n",
      "Recall: 0.8823529411764706\n",
      "F1-score: 0.75\n"
     ]
    }
   ],
   "source": [
    "from sklearn.metrics import accuracy_score, precision_score, recall_score, f1_score\n",
    "\n",
    "# Calculate accuracy\n",
    "accuracy = accuracy_score(y_test_dem, y_test_pred_dem)\n",
    "print(\"Accuracy:\", accuracy)\n",
    "\n",
    "# Calculate precision\n",
    "precision = precision_score(y_test_dem, y_test_pred_dem)\n",
    "print(\"Precision:\", precision)\n",
    "\n",
    "# Calculate recall\n",
    "recall = recall_score(y_test_dem, y_test_pred_dem)\n",
    "print(\"Recall:\", recall)\n",
    "\n",
    "# Calculate F1-score\n",
    "f1 = f1_score(y_test_dem, y_test_pred_dem)\n",
    "print(\"F1-score:\", f1)\n"
   ]
  },
  {
   "cell_type": "code",
   "execution_count": 64,
   "metadata": {},
   "outputs": [
    {
     "name": "stdout",
     "output_type": "stream",
     "text": [
      "0.68 accuracy with a standard deviation of 0.17\n"
     ]
    }
   ],
   "source": [
    "from sklearn.model_selection import cross_val_score\n",
    "\n",
    "scored1 = cross_val_score(clfd, X_test_dem,y_test_dem,cv =5)\n",
    "print(\"%0.2f accuracy with a standard deviation of %0.2f\" % (scored1.mean(), scored1.std()))\n"
   ]
  },
  {
   "cell_type": "code",
   "execution_count": 65,
   "metadata": {},
   "outputs": [
    {
     "name": "stdout",
     "output_type": "stream",
     "text": [
      "Feature importance rankings:\n",
      "1. Feature: Education level - Importance: 1.4939770129359085\n",
      "2. Feature: Occupation - Importance: 0.9602044227100883\n",
      "3. Feature: Number of Children - Importance: 0.9601393391494216\n",
      "4. Feature: Motive - Importance: 0.45438870068518655\n",
      "5. Feature: Income Range - Importance: 0.2238017432621522\n",
      "6. Feature: Gender - Importance: 0.08657862450600642\n",
      "7. Feature: Age range - Importance: 0.08006575894497645\n"
     ]
    }
   ],
   "source": [
    "# Instantiate an SVM classifier\n",
    "svm = SVC(kernel='linear')\n",
    "\n",
    "# Fit the classifier to the training data\n",
    "svm.fit(X_train_dem, y_train_dem)\n",
    "\n",
    "\n",
    "# Get the absolute values of the coefficients\n",
    "coefficients = np.abs(svm.coef_)\n",
    "\n",
    "# Calculate the feature importances\n",
    "importances = np.sum(coefficients, axis=0)\n",
    "\n",
    "# Sort feature importances in descending order\n",
    "indices = np.argsort(importances)[::-1]\n",
    "\n",
    "# Print feature importance rankings\n",
    "print(\"Feature importance rankings:\")\n",
    "for i, index in enumerate(indices):\n",
    "    print(f\"{i+1}. Feature: {X_train_dem.columns[index]} - Importance: {importances[index]}\")"
   ]
  }
 ],
 "metadata": {
  "kernelspec": {
   "display_name": "base",
   "language": "python",
   "name": "python3"
  },
  "language_info": {
   "codemirror_mode": {
    "name": "ipython",
    "version": 3
   },
   "file_extension": ".py",
   "mimetype": "text/x-python",
   "name": "python",
   "nbconvert_exporter": "python",
   "pygments_lexer": "ipython3",
   "version": "3.9.13"
  },
  "orig_nbformat": 4
 },
 "nbformat": 4,
 "nbformat_minor": 2
}
