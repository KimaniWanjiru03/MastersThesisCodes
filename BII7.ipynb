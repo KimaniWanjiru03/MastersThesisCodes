{
 "cells": [
  {
   "attachments": {},
   "cell_type": "markdown",
   "metadata": {},
   "source": [
    "## USING NEURAL NETWORK"
   ]
  },
  {
   "cell_type": "code",
   "execution_count": 1,
   "metadata": {},
   "outputs": [],
   "source": [
    "import pandas as pd\n",
    "import numpy as np\n",
    "\n",
    "from sklearn.model_selection import train_test_split\n",
    "from sklearn.metrics import confusion_matrix\n",
    "\n",
    "import seaborn as sn\n",
    "from matplotlib import pyplot as plt\n",
    "\n",
    "import tensorflow as tf\n",
    "from tensorflow import keras\n",
    "from keras.models import Sequential\n",
    "from keras.layers import Dense, Activation"
   ]
  },
  {
   "cell_type": "code",
   "execution_count": 2,
   "metadata": {},
   "outputs": [],
   "source": [
    "df = pd.read_csv('new_data5.csv')"
   ]
  },
  {
   "cell_type": "code",
   "execution_count": 3,
   "metadata": {},
   "outputs": [],
   "source": [
    "X_demograh = df.loc[:, ['Motive','Income Range','Gender','Education level','Number of Children']]\n",
    "y_demograph = df['Insured']\n",
    "\n",
    "X_post = df.loc[:, ['Income Range','Time of Cover','Premium','Claim','Insured']]\n",
    "y_post = df['Post claim capital range']"
   ]
  },
  {
   "cell_type": "code",
   "execution_count": 4,
   "metadata": {},
   "outputs": [],
   "source": [
    "X_train_dem, X_test_dem, y_train_dem, y_test_dem = train_test_split(X_demograh,y_demograph, test_size = 0.3)\n",
    "\n",
    "X_train_pos, X_test_pos, y_train_pos, y_test_pos = train_test_split(X_post,y_post, test_size = 0.3)"
   ]
  },
  {
   "attachments": {},
   "cell_type": "markdown",
   "metadata": {},
   "source": [
    "**FITTING DEMOGRAPHIC THE MODEL**"
   ]
  },
  {
   "cell_type": "code",
   "execution_count": 9,
   "metadata": {},
   "outputs": [
    {
     "data": {
      "text/plain": [
       "57"
      ]
     },
     "execution_count": 9,
     "metadata": {},
     "output_type": "execute_result"
    }
   ],
   "source": [
    "X_train_dem.shape[0]"
   ]
  },
  {
   "cell_type": "code",
   "execution_count": 6,
   "metadata": {},
   "outputs": [
    {
     "name": "stdout",
     "output_type": "stream",
     "text": [
      "Epoch 1/50\n"
     ]
    },
    {
     "ename": "ValueError",
     "evalue": "in user code:\n\n    File \"c:\\Users\\Academic\\anaconda3\\lib\\site-packages\\keras\\engine\\training.py\", line 1249, in train_function  *\n        return step_function(self, iterator)\n    File \"c:\\Users\\Academic\\anaconda3\\lib\\site-packages\\keras\\engine\\training.py\", line 1233, in step_function  **\n        outputs = model.distribute_strategy.run(run_step, args=(data,))\n    File \"c:\\Users\\Academic\\anaconda3\\lib\\site-packages\\keras\\engine\\training.py\", line 1222, in run_step  **\n        outputs = model.train_step(data)\n    File \"c:\\Users\\Academic\\anaconda3\\lib\\site-packages\\keras\\engine\\training.py\", line 1023, in train_step\n        y_pred = self(x, training=True)\n    File \"c:\\Users\\Academic\\anaconda3\\lib\\site-packages\\keras\\utils\\traceback_utils.py\", line 70, in error_handler\n        raise e.with_traceback(filtered_tb) from None\n    File \"c:\\Users\\Academic\\anaconda3\\lib\\site-packages\\keras\\engine\\input_spec.py\", line 295, in assert_input_compatibility\n        raise ValueError(\n\n    ValueError: Input 0 of layer \"sequential\" is incompatible with the layer: expected shape=(None, 57), found shape=(None, 5)\n",
     "output_type": "error",
     "traceback": [
      "\u001b[1;31m---------------------------------------------------------------------------\u001b[0m",
      "\u001b[1;31mValueError\u001b[0m                                Traceback (most recent call last)",
      "\u001b[1;32m~\\AppData\\Local\\Temp\\ipykernel_14468\\1073618759.py\u001b[0m in \u001b[0;36m<module>\u001b[1;34m\u001b[0m\n\u001b[0;32m     14\u001b[0m \u001b[1;33m\u001b[0m\u001b[0m\n\u001b[0;32m     15\u001b[0m \u001b[1;31m# Fit the model\u001b[0m\u001b[1;33m\u001b[0m\u001b[1;33m\u001b[0m\u001b[0m\n\u001b[1;32m---> 16\u001b[1;33m \u001b[0mmodeld\u001b[0m\u001b[1;33m.\u001b[0m\u001b[0mfit\u001b[0m\u001b[1;33m(\u001b[0m\u001b[0mX_train_dem\u001b[0m\u001b[1;33m,\u001b[0m \u001b[0my_train_dem\u001b[0m\u001b[1;33m,\u001b[0m \u001b[0mepochs\u001b[0m\u001b[1;33m=\u001b[0m\u001b[1;36m50\u001b[0m\u001b[1;33m,\u001b[0m \u001b[0mbatch_size\u001b[0m\u001b[1;33m=\u001b[0m\u001b[1;36m32\u001b[0m\u001b[1;33m)\u001b[0m\u001b[1;33m\u001b[0m\u001b[1;33m\u001b[0m\u001b[0m\n\u001b[0m",
      "\u001b[1;32mc:\\Users\\Academic\\anaconda3\\lib\\site-packages\\keras\\utils\\traceback_utils.py\u001b[0m in \u001b[0;36merror_handler\u001b[1;34m(*args, **kwargs)\u001b[0m\n\u001b[0;32m     68\u001b[0m             \u001b[1;31m# To get the full stack trace, call:\u001b[0m\u001b[1;33m\u001b[0m\u001b[1;33m\u001b[0m\u001b[0m\n\u001b[0;32m     69\u001b[0m             \u001b[1;31m# `tf.debugging.disable_traceback_filtering()`\u001b[0m\u001b[1;33m\u001b[0m\u001b[1;33m\u001b[0m\u001b[0m\n\u001b[1;32m---> 70\u001b[1;33m             \u001b[1;32mraise\u001b[0m \u001b[0me\u001b[0m\u001b[1;33m.\u001b[0m\u001b[0mwith_traceback\u001b[0m\u001b[1;33m(\u001b[0m\u001b[0mfiltered_tb\u001b[0m\u001b[1;33m)\u001b[0m \u001b[1;32mfrom\u001b[0m \u001b[1;32mNone\u001b[0m\u001b[1;33m\u001b[0m\u001b[1;33m\u001b[0m\u001b[0m\n\u001b[0m\u001b[0;32m     71\u001b[0m         \u001b[1;32mfinally\u001b[0m\u001b[1;33m:\u001b[0m\u001b[1;33m\u001b[0m\u001b[1;33m\u001b[0m\u001b[0m\n\u001b[0;32m     72\u001b[0m             \u001b[1;32mdel\u001b[0m \u001b[0mfiltered_tb\u001b[0m\u001b[1;33m\u001b[0m\u001b[1;33m\u001b[0m\u001b[0m\n",
      "\u001b[1;32mc:\\Users\\Academic\\anaconda3\\lib\\site-packages\\keras\\engine\\training.py\u001b[0m in \u001b[0;36mtf__train_function\u001b[1;34m(iterator)\u001b[0m\n\u001b[0;32m     13\u001b[0m                 \u001b[1;32mtry\u001b[0m\u001b[1;33m:\u001b[0m\u001b[1;33m\u001b[0m\u001b[1;33m\u001b[0m\u001b[0m\n\u001b[0;32m     14\u001b[0m                     \u001b[0mdo_return\u001b[0m \u001b[1;33m=\u001b[0m \u001b[1;32mTrue\u001b[0m\u001b[1;33m\u001b[0m\u001b[1;33m\u001b[0m\u001b[0m\n\u001b[1;32m---> 15\u001b[1;33m                     \u001b[0mretval_\u001b[0m \u001b[1;33m=\u001b[0m \u001b[0mag__\u001b[0m\u001b[1;33m.\u001b[0m\u001b[0mconverted_call\u001b[0m\u001b[1;33m(\u001b[0m\u001b[0mag__\u001b[0m\u001b[1;33m.\u001b[0m\u001b[0mld\u001b[0m\u001b[1;33m(\u001b[0m\u001b[0mstep_function\u001b[0m\u001b[1;33m)\u001b[0m\u001b[1;33m,\u001b[0m \u001b[1;33m(\u001b[0m\u001b[0mag__\u001b[0m\u001b[1;33m.\u001b[0m\u001b[0mld\u001b[0m\u001b[1;33m(\u001b[0m\u001b[0mself\u001b[0m\u001b[1;33m)\u001b[0m\u001b[1;33m,\u001b[0m \u001b[0mag__\u001b[0m\u001b[1;33m.\u001b[0m\u001b[0mld\u001b[0m\u001b[1;33m(\u001b[0m\u001b[0miterator\u001b[0m\u001b[1;33m)\u001b[0m\u001b[1;33m)\u001b[0m\u001b[1;33m,\u001b[0m \u001b[1;32mNone\u001b[0m\u001b[1;33m,\u001b[0m \u001b[0mfscope\u001b[0m\u001b[1;33m)\u001b[0m\u001b[1;33m\u001b[0m\u001b[1;33m\u001b[0m\u001b[0m\n\u001b[0m\u001b[0;32m     16\u001b[0m                 \u001b[1;32mexcept\u001b[0m\u001b[1;33m:\u001b[0m\u001b[1;33m\u001b[0m\u001b[1;33m\u001b[0m\u001b[0m\n\u001b[0;32m     17\u001b[0m                     \u001b[0mdo_return\u001b[0m \u001b[1;33m=\u001b[0m \u001b[1;32mFalse\u001b[0m\u001b[1;33m\u001b[0m\u001b[1;33m\u001b[0m\u001b[0m\n",
      "\u001b[1;31mValueError\u001b[0m: in user code:\n\n    File \"c:\\Users\\Academic\\anaconda3\\lib\\site-packages\\keras\\engine\\training.py\", line 1249, in train_function  *\n        return step_function(self, iterator)\n    File \"c:\\Users\\Academic\\anaconda3\\lib\\site-packages\\keras\\engine\\training.py\", line 1233, in step_function  **\n        outputs = model.distribute_strategy.run(run_step, args=(data,))\n    File \"c:\\Users\\Academic\\anaconda3\\lib\\site-packages\\keras\\engine\\training.py\", line 1222, in run_step  **\n        outputs = model.train_step(data)\n    File \"c:\\Users\\Academic\\anaconda3\\lib\\site-packages\\keras\\engine\\training.py\", line 1023, in train_step\n        y_pred = self(x, training=True)\n    File \"c:\\Users\\Academic\\anaconda3\\lib\\site-packages\\keras\\utils\\traceback_utils.py\", line 70, in error_handler\n        raise e.with_traceback(filtered_tb) from None\n    File \"c:\\Users\\Academic\\anaconda3\\lib\\site-packages\\keras\\engine\\input_spec.py\", line 295, in assert_input_compatibility\n        raise ValueError(\n\n    ValueError: Input 0 of layer \"sequential\" is incompatible with the layer: expected shape=(None, 57), found shape=(None, 5)\n"
     ]
    }
   ],
   "source": [
    "modeld = Sequential()\n",
    "\n",
    "# Add input layer and hidden layer with 32 neurons and relu activation\n",
    "modeld.add(Dense(32, input_dim = X_train_dem.shape[0], activation='relu'))\n",
    "\n",
    "# Add another hidden layer with 16 neurons and relu activation\n",
    "modeld.add(Dense(12, activation='relu'))\n",
    "\n",
    "# Add output layer with 7 neurons and softmax activation\n",
    "modeld.add(Dense(2, activation='softmax'))\n",
    "\n",
    "# Compile the model\n",
    "modeld.compile(loss='categorical_crossentropy', optimizer='adam', metrics=['accuracy'])\n",
    "\n",
    "# Fit the model\n",
    "modeld.fit(X_train_dem, y_train_dem, epochs=50, batch_size=32)"
   ]
  },
  {
   "cell_type": "code",
   "execution_count": 78,
   "metadata": {},
   "outputs": [],
   "source": [
    "# from sklearn.preprocessing import OneHotEncoder\n",
    "\n",
    "# encoder3 = OneHotEncoder()\n",
    "# encoder3.fit(X_all_trainn)\n",
    "\n",
    "# # transform X_train and X_test into encoded matrices\n",
    "# X_all_train_encoded = encoder3.transform(X_all_trainn)\n",
    "# X_all_test_encoded = encoder3.transform(X_all_test)\n",
    "# X_all_val_encoded = encoder3.transform(X_all_val)"
   ]
  },
  {
   "cell_type": "code",
   "execution_count": 2,
   "metadata": {},
   "outputs": [],
   "source": [
    "# X_all_test_encoded.shape, X_all_train_encoded.shape , y_all_trainn.shape,X_all_val_encoded.shape, y_all_val.shape"
   ]
  },
  {
   "cell_type": "code",
   "execution_count": 80,
   "metadata": {},
   "outputs": [],
   "source": [
    "# from keras.utils import to_categorical\n",
    "\n",
    "# # Convert integer labels to one-hot encoded labels\n",
    "# y_all_trainn_encoded = to_categorical(y_all_trainn)\n",
    "# y_all_val_encoded = to_categorical(y_all_val)\n",
    "# y_all_test_encoded = to_categorical(y_all_test)"
   ]
  },
  {
   "attachments": {},
   "cell_type": "markdown",
   "metadata": {},
   "source": [
    "**SPLITTING THE MODEL**"
   ]
  },
  {
   "cell_type": "code",
   "execution_count": null,
   "metadata": {},
   "outputs": [],
   "source": [
    "X1 = df.loc[:, ['Motive','Income Range','Gender','Education level','Number of Children']]\n",
    "y1 = df['Insured']"
   ]
  },
  {
   "cell_type": "code",
   "execution_count": null,
   "metadata": {},
   "outputs": [],
   "source": [
    "X1_train, X1_test, y1_train, y1_test = train_test_split(X1,y1, test_size = 0.2)\n",
    "\n",
    "# Split the train data into train and validation sets\n",
    "X1_trainn, X1_val, y1_trainn, y1_val = train_test_split(X1_train, y1_train, test_size=0.2, random_state=42)"
   ]
  },
  {
   "cell_type": "code",
   "execution_count": null,
   "metadata": {},
   "outputs": [],
   "source": [
    "encoder = OneHotEncoder()\n",
    "encoder.fit(X1_trainn)\n",
    "\n",
    "# transform X_train and X_test into encoded matrices\n",
    "X1_train_encoded = encoder.transform(X1_trainn)\n",
    "X1_test_encoded = encoder.transform(X1_test)\n",
    "X1_val_encoded = encoder.transform(X1_val)\n"
   ]
  },
  {
   "cell_type": "code",
   "execution_count": null,
   "metadata": {},
   "outputs": [],
   "source": [
    "# Convert integer labels to one-hot encoded labels\n",
    "y1_trainn_encoded = to_categorical(y1_trainn)\n",
    "y1_val_encoded = to_categorical(y1_val)\n",
    "y1_test_encoded = to_categorical(y1_test)"
   ]
  },
  {
   "cell_type": "code",
   "execution_count": null,
   "metadata": {},
   "outputs": [
    {
     "data": {
      "text/plain": [
       "(52, 21)"
      ]
     },
     "execution_count": 126,
     "metadata": {},
     "output_type": "execute_result"
    }
   ],
   "source": [
    "X1_train_encoded.shape"
   ]
  },
  {
   "cell_type": "code",
   "execution_count": null,
   "metadata": {},
   "outputs": [
    {
     "name": "stdout",
     "output_type": "stream",
     "text": [
      "Epoch 1/50\n",
      "2/2 [==============================] - 2s 229ms/step - loss: 0.5806 - accuracy: 0.7500 - val_loss: 0.5186 - val_accuracy: 0.8462\n",
      "Epoch 2/50\n",
      "2/2 [==============================] - 0s 24ms/step - loss: 0.5578 - accuracy: 0.8077 - val_loss: 0.4992 - val_accuracy: 0.8462\n",
      "Epoch 3/50\n",
      "2/2 [==============================] - 0s 28ms/step - loss: 0.5387 - accuracy: 0.8077 - val_loss: 0.4819 - val_accuracy: 0.8462\n",
      "Epoch 4/50\n",
      "2/2 [==============================] - 0s 43ms/step - loss: 0.5228 - accuracy: 0.8077 - val_loss: 0.4679 - val_accuracy: 0.8462\n",
      "Epoch 5/50\n",
      "2/2 [==============================] - 0s 26ms/step - loss: 0.5111 - accuracy: 0.8077 - val_loss: 0.4570 - val_accuracy: 0.8462\n",
      "Epoch 6/50\n",
      "2/2 [==============================] - 0s 21ms/step - loss: 0.5008 - accuracy: 0.8077 - val_loss: 0.4483 - val_accuracy: 0.8462\n",
      "Epoch 7/50\n",
      "2/2 [==============================] - 0s 36ms/step - loss: 0.4899 - accuracy: 0.8077 - val_loss: 0.4424 - val_accuracy: 0.8462\n",
      "Epoch 8/50\n",
      "2/2 [==============================] - 0s 31ms/step - loss: 0.4811 - accuracy: 0.8077 - val_loss: 0.4366 - val_accuracy: 0.8462\n",
      "Epoch 9/50\n",
      "2/2 [==============================] - 0s 26ms/step - loss: 0.4736 - accuracy: 0.8077 - val_loss: 0.4319 - val_accuracy: 0.8462\n",
      "Epoch 10/50\n",
      "2/2 [==============================] - 0s 32ms/step - loss: 0.4648 - accuracy: 0.8077 - val_loss: 0.4283 - val_accuracy: 0.8462\n",
      "Epoch 11/50\n",
      "2/2 [==============================] - 0s 27ms/step - loss: 0.4570 - accuracy: 0.8077 - val_loss: 0.4254 - val_accuracy: 0.8462\n",
      "Epoch 12/50\n",
      "2/2 [==============================] - 0s 27ms/step - loss: 0.4498 - accuracy: 0.8077 - val_loss: 0.4230 - val_accuracy: 0.8462\n",
      "Epoch 13/50\n",
      "2/2 [==============================] - 0s 30ms/step - loss: 0.4425 - accuracy: 0.8077 - val_loss: 0.4211 - val_accuracy: 0.8462\n",
      "Epoch 14/50\n",
      "2/2 [==============================] - 0s 34ms/step - loss: 0.4356 - accuracy: 0.8077 - val_loss: 0.4198 - val_accuracy: 0.8462\n",
      "Epoch 15/50\n",
      "2/2 [==============================] - 0s 27ms/step - loss: 0.4278 - accuracy: 0.8077 - val_loss: 0.4191 - val_accuracy: 0.8462\n",
      "Epoch 16/50\n",
      "2/2 [==============================] - 0s 30ms/step - loss: 0.4212 - accuracy: 0.8077 - val_loss: 0.4189 - val_accuracy: 0.8462\n",
      "Epoch 17/50\n",
      "2/2 [==============================] - 0s 32ms/step - loss: 0.4151 - accuracy: 0.8077 - val_loss: 0.4190 - val_accuracy: 0.8462\n",
      "Epoch 18/50\n",
      "2/2 [==============================] - 0s 43ms/step - loss: 0.4076 - accuracy: 0.8077 - val_loss: 0.4198 - val_accuracy: 0.8462\n",
      "Epoch 19/50\n",
      "2/2 [==============================] - 0s 29ms/step - loss: 0.4021 - accuracy: 0.8077 - val_loss: 0.4207 - val_accuracy: 0.8462\n",
      "Epoch 20/50\n",
      "2/2 [==============================] - 0s 30ms/step - loss: 0.3947 - accuracy: 0.8077 - val_loss: 0.4212 - val_accuracy: 0.8462\n",
      "Epoch 21/50\n",
      "2/2 [==============================] - 0s 29ms/step - loss: 0.3888 - accuracy: 0.8077 - val_loss: 0.4221 - val_accuracy: 0.8462\n",
      "Epoch 22/50\n",
      "2/2 [==============================] - 0s 27ms/step - loss: 0.3834 - accuracy: 0.8077 - val_loss: 0.4233 - val_accuracy: 0.8462\n",
      "Epoch 23/50\n",
      "2/2 [==============================] - 0s 34ms/step - loss: 0.3782 - accuracy: 0.8077 - val_loss: 0.4245 - val_accuracy: 0.8462\n",
      "Epoch 24/50\n",
      "2/2 [==============================] - 0s 22ms/step - loss: 0.3721 - accuracy: 0.8077 - val_loss: 0.4253 - val_accuracy: 0.8462\n",
      "Epoch 25/50\n",
      "2/2 [==============================] - 0s 37ms/step - loss: 0.3673 - accuracy: 0.8077 - val_loss: 0.4261 - val_accuracy: 0.8462\n",
      "Epoch 26/50\n",
      "2/2 [==============================] - 0s 29ms/step - loss: 0.3615 - accuracy: 0.8269 - val_loss: 0.4265 - val_accuracy: 0.8462\n",
      "Epoch 27/50\n",
      "2/2 [==============================] - 0s 23ms/step - loss: 0.3568 - accuracy: 0.8462 - val_loss: 0.4270 - val_accuracy: 0.8462\n",
      "Epoch 28/50\n",
      "2/2 [==============================] - 0s 47ms/step - loss: 0.3522 - accuracy: 0.8654 - val_loss: 0.4276 - val_accuracy: 0.8462\n",
      "Epoch 29/50\n",
      "2/2 [==============================] - 0s 29ms/step - loss: 0.3473 - accuracy: 0.8654 - val_loss: 0.4284 - val_accuracy: 0.8462\n",
      "Epoch 30/50\n",
      "2/2 [==============================] - 0s 32ms/step - loss: 0.3429 - accuracy: 0.8654 - val_loss: 0.4293 - val_accuracy: 0.8462\n",
      "Epoch 31/50\n",
      "2/2 [==============================] - 0s 169ms/step - loss: 0.3383 - accuracy: 0.8654 - val_loss: 0.4306 - val_accuracy: 0.8462\n",
      "Epoch 32/50\n",
      "2/2 [==============================] - 0s 36ms/step - loss: 0.3340 - accuracy: 0.8846 - val_loss: 0.4317 - val_accuracy: 0.8462\n",
      "Epoch 33/50\n",
      "2/2 [==============================] - 0s 28ms/step - loss: 0.3296 - accuracy: 0.8846 - val_loss: 0.4330 - val_accuracy: 0.8462\n",
      "Epoch 34/50\n",
      "2/2 [==============================] - 0s 32ms/step - loss: 0.3257 - accuracy: 0.8846 - val_loss: 0.4344 - val_accuracy: 0.8462\n",
      "Epoch 35/50\n",
      "2/2 [==============================] - 0s 40ms/step - loss: 0.3219 - accuracy: 0.8846 - val_loss: 0.4357 - val_accuracy: 0.8462\n",
      "Epoch 36/50\n",
      "2/2 [==============================] - 0s 25ms/step - loss: 0.3177 - accuracy: 0.8846 - val_loss: 0.4375 - val_accuracy: 0.8462\n",
      "Epoch 37/50\n",
      "2/2 [==============================] - 0s 34ms/step - loss: 0.3140 - accuracy: 0.8846 - val_loss: 0.4390 - val_accuracy: 0.8462\n",
      "Epoch 38/50\n",
      "2/2 [==============================] - 0s 28ms/step - loss: 0.3102 - accuracy: 0.8846 - val_loss: 0.4407 - val_accuracy: 0.8462\n",
      "Epoch 39/50\n",
      "2/2 [==============================] - 0s 35ms/step - loss: 0.3067 - accuracy: 0.8846 - val_loss: 0.4424 - val_accuracy: 0.8462\n",
      "Epoch 40/50\n",
      "2/2 [==============================] - 0s 35ms/step - loss: 0.3026 - accuracy: 0.8846 - val_loss: 0.4439 - val_accuracy: 0.8462\n",
      "Epoch 41/50\n",
      "2/2 [==============================] - 0s 24ms/step - loss: 0.2990 - accuracy: 0.8846 - val_loss: 0.4454 - val_accuracy: 0.8462\n",
      "Epoch 42/50\n",
      "2/2 [==============================] - 0s 26ms/step - loss: 0.2957 - accuracy: 0.8846 - val_loss: 0.4472 - val_accuracy: 0.8462\n",
      "Epoch 43/50\n",
      "2/2 [==============================] - 0s 24ms/step - loss: 0.2923 - accuracy: 0.8846 - val_loss: 0.4489 - val_accuracy: 0.8462\n",
      "Epoch 44/50\n",
      "2/2 [==============================] - 0s 26ms/step - loss: 0.2892 - accuracy: 0.8846 - val_loss: 0.4508 - val_accuracy: 0.8462\n",
      "Epoch 45/50\n",
      "2/2 [==============================] - 0s 39ms/step - loss: 0.2859 - accuracy: 0.8846 - val_loss: 0.4527 - val_accuracy: 0.8462\n",
      "Epoch 46/50\n",
      "2/2 [==============================] - 0s 22ms/step - loss: 0.2826 - accuracy: 0.8846 - val_loss: 0.4547 - val_accuracy: 0.8462\n",
      "Epoch 47/50\n",
      "2/2 [==============================] - 0s 23ms/step - loss: 0.2799 - accuracy: 0.8846 - val_loss: 0.4567 - val_accuracy: 0.8462\n",
      "Epoch 48/50\n",
      "2/2 [==============================] - 0s 22ms/step - loss: 0.2767 - accuracy: 0.8846 - val_loss: 0.4583 - val_accuracy: 0.8462\n",
      "Epoch 49/50\n",
      "2/2 [==============================] - 0s 27ms/step - loss: 0.2740 - accuracy: 0.8846 - val_loss: 0.4602 - val_accuracy: 0.8462\n",
      "Epoch 50/50\n",
      "2/2 [==============================] - 0s 28ms/step - loss: 0.2713 - accuracy: 0.8846 - val_loss: 0.4621 - val_accuracy: 0.8462\n"
     ]
    },
    {
     "data": {
      "text/plain": [
       "<keras.callbacks.History at 0x27060b91df0>"
      ]
     },
     "execution_count": 127,
     "metadata": {},
     "output_type": "execute_result"
    }
   ],
   "source": [
    "model2 = Sequential()\n",
    "\n",
    "# Add input layer and hidden layer with 32 neurons and relu activation\n",
    "model2.add(Dense(32, input_dim= 21, activation='relu'))\n",
    "\n",
    "# Add another hidden layer with 16 neurons and relu activation\n",
    "model2.add(Dense(12, activation='relu'))\n",
    "\n",
    "# Add output layer with 6 neurons and softmax activation\n",
    "model2.add(Dense(2, activation='softmax'))\n",
    "\n",
    "# Compile the model\n",
    "model2.compile(loss='categorical_crossentropy', optimizer='adam', metrics=['accuracy'])\n",
    "\n",
    "# Fit the model\n",
    "model2.fit(X1_train_encoded, y1_trainn_encoded, epochs=50, batch_size=32,  validation_data=(X1_val_encoded, y1_val_encoded))"
   ]
  },
  {
   "cell_type": "code",
   "execution_count": null,
   "metadata": {},
   "outputs": [
    {
     "name": "stdout",
     "output_type": "stream",
     "text": [
      "2/2 [==============================] - 0s 6ms/step\n",
      "1/1 [==============================] - 0s 13ms/step\n",
      "1/1 [==============================] - 0s 11ms/step\n"
     ]
    }
   ],
   "source": [
    "y1_train_pred = model2.predict(X1_train_encoded)\n",
    "y1_test_pred = model2.predict(X1_test_encoded)\n",
    "y1_val_pred = model2.predict(X1_val_encoded)"
   ]
  },
  {
   "cell_type": "code",
   "execution_count": null,
   "metadata": {},
   "outputs": [
    {
     "name": "stdout",
     "output_type": "stream",
     "text": [
      "1/1 [==============================] - 0s 14ms/step - loss: 0.3974 - accuracy: 0.8824\n",
      "Test loss: 0.39737221598625183\n",
      "Test accuracy: 0.8823529481887817\n"
     ]
    }
   ],
   "source": [
    "# Evaluate the model\n",
    "score = model2.evaluate(X1_test_encoded, y1_test_encoded, batch_size=32)\n",
    "print('Test loss:', score[0])\n",
    "print('Test accuracy:', score[1])"
   ]
  },
  {
   "cell_type": "code",
   "execution_count": null,
   "metadata": {},
   "outputs": [
    {
     "data": {
      "text/plain": [
       "((320, 4), (320, 2), (100, 2), (100, 6), (320, 201))"
      ]
     },
     "execution_count": 89,
     "metadata": {},
     "output_type": "execute_result"
    }
   ],
   "source": [
    "X2_trainn.shape, y1_train_pred.shape, y1_test_pred.shape, X2_testt.shape, X2_trainn_encoded.shape"
   ]
  },
  {
   "cell_type": "code",
   "execution_count": null,
   "metadata": {},
   "outputs": [],
   "source": [
    "X2 = df.loc[:,['Time of Cover','Premium','Claim']]\n",
    "y2 = df['Post claim capital range']"
   ]
  },
  {
   "cell_type": "code",
   "execution_count": null,
   "metadata": {},
   "outputs": [],
   "source": [
    "X2_train, X2_test, y2_train, y2_test = train_test_split(X2,y2, test_size = 0.2)\n",
    "\n",
    "# Split the train data into train and validation sets\n",
    "X2_trainn, X2_val, y2_trainn, y2_val = train_test_split(X2_train, y2_train, test_size=0.2, random_state=42)\n"
   ]
  },
  {
   "cell_type": "code",
   "execution_count": null,
   "metadata": {},
   "outputs": [
    {
     "ename": "ValueError",
     "evalue": "Found unknown categories [0.713455319404602, 0.7515759468078613, 0.7728367447853088, 0.779241144657135, 0.7922800183296204, 0.802767813205719, 0.8260108828544617, 0.8428683280944824, 0.8645200133323669, 0.8817026615142822, 0.8923150300979614, 0.897708535194397, 0.9137015342712402, 0.9299815893173218, 0.940780758857727, 0.9497969746589661, 0.9518402218818665, 0.9589638113975525, 0.9704686999320984] in column 3 during transform",
     "output_type": "error",
     "traceback": [
      "\u001b[1;31m---------------------------------------------------------------------------\u001b[0m",
      "\u001b[1;31mValueError\u001b[0m                                Traceback (most recent call last)",
      "\u001b[1;32m~\\AppData\\Local\\Temp\\ipykernel_12308\\3563585794.py\u001b[0m in \u001b[0;36m<module>\u001b[1;34m\u001b[0m\n\u001b[0;32m      8\u001b[0m \u001b[1;31m# transform X_train and X_test into encoded matrices\u001b[0m\u001b[1;33m\u001b[0m\u001b[1;33m\u001b[0m\u001b[0m\n\u001b[0;32m      9\u001b[0m \u001b[0mX2_trainn_encoded\u001b[0m \u001b[1;33m=\u001b[0m \u001b[0mencoder2\u001b[0m\u001b[1;33m.\u001b[0m\u001b[0mtransform\u001b[0m\u001b[1;33m(\u001b[0m\u001b[0mX2_train_n\u001b[0m\u001b[1;33m)\u001b[0m\u001b[1;33m\u001b[0m\u001b[1;33m\u001b[0m\u001b[0m\n\u001b[1;32m---> 10\u001b[1;33m \u001b[0mX2_testt_encoded\u001b[0m \u001b[1;33m=\u001b[0m \u001b[0mencoder2\u001b[0m\u001b[1;33m.\u001b[0m\u001b[0mtransform\u001b[0m\u001b[1;33m(\u001b[0m\u001b[0mX2_testt\u001b[0m\u001b[1;33m)\u001b[0m\u001b[1;33m\u001b[0m\u001b[1;33m\u001b[0m\u001b[0m\n\u001b[0m\u001b[0;32m     11\u001b[0m \u001b[0mX2_vall_encoded\u001b[0m \u001b[1;33m=\u001b[0m \u001b[0mencoder2\u001b[0m\u001b[1;33m.\u001b[0m\u001b[0mtransform\u001b[0m\u001b[1;33m(\u001b[0m\u001b[0mX2_vall\u001b[0m\u001b[1;33m)\u001b[0m\u001b[1;33m\u001b[0m\u001b[1;33m\u001b[0m\u001b[0m\n",
      "\u001b[1;32mc:\\Users\\Academic\\anaconda3\\lib\\site-packages\\sklearn\\preprocessing\\_encoders.py\u001b[0m in \u001b[0;36mtransform\u001b[1;34m(self, X)\u001b[0m\n\u001b[0;32m    507\u001b[0m         \u001b[1;31m# validation of X happens in _check_X called by _transform\u001b[0m\u001b[1;33m\u001b[0m\u001b[1;33m\u001b[0m\u001b[0m\n\u001b[0;32m    508\u001b[0m         \u001b[0mwarn_on_unknown\u001b[0m \u001b[1;33m=\u001b[0m \u001b[0mself\u001b[0m\u001b[1;33m.\u001b[0m\u001b[0mhandle_unknown\u001b[0m \u001b[1;33m==\u001b[0m \u001b[1;34m\"ignore\"\u001b[0m \u001b[1;32mand\u001b[0m \u001b[0mself\u001b[0m\u001b[1;33m.\u001b[0m\u001b[0mdrop\u001b[0m \u001b[1;32mis\u001b[0m \u001b[1;32mnot\u001b[0m \u001b[1;32mNone\u001b[0m\u001b[1;33m\u001b[0m\u001b[1;33m\u001b[0m\u001b[0m\n\u001b[1;32m--> 509\u001b[1;33m         X_int, X_mask = self._transform(\n\u001b[0m\u001b[0;32m    510\u001b[0m             \u001b[0mX\u001b[0m\u001b[1;33m,\u001b[0m\u001b[1;33m\u001b[0m\u001b[1;33m\u001b[0m\u001b[0m\n\u001b[0;32m    511\u001b[0m             \u001b[0mhandle_unknown\u001b[0m\u001b[1;33m=\u001b[0m\u001b[0mself\u001b[0m\u001b[1;33m.\u001b[0m\u001b[0mhandle_unknown\u001b[0m\u001b[1;33m,\u001b[0m\u001b[1;33m\u001b[0m\u001b[1;33m\u001b[0m\u001b[0m\n",
      "\u001b[1;32mc:\\Users\\Academic\\anaconda3\\lib\\site-packages\\sklearn\\preprocessing\\_encoders.py\u001b[0m in \u001b[0;36m_transform\u001b[1;34m(self, X, handle_unknown, force_all_finite, warn_on_unknown)\u001b[0m\n\u001b[0;32m    140\u001b[0m                         \u001b[1;34m\" during transform\"\u001b[0m\u001b[1;33m.\u001b[0m\u001b[0mformat\u001b[0m\u001b[1;33m(\u001b[0m\u001b[0mdiff\u001b[0m\u001b[1;33m,\u001b[0m \u001b[0mi\u001b[0m\u001b[1;33m)\u001b[0m\u001b[1;33m\u001b[0m\u001b[1;33m\u001b[0m\u001b[0m\n\u001b[0;32m    141\u001b[0m                     )\n\u001b[1;32m--> 142\u001b[1;33m                     \u001b[1;32mraise\u001b[0m \u001b[0mValueError\u001b[0m\u001b[1;33m(\u001b[0m\u001b[0mmsg\u001b[0m\u001b[1;33m)\u001b[0m\u001b[1;33m\u001b[0m\u001b[1;33m\u001b[0m\u001b[0m\n\u001b[0m\u001b[0;32m    143\u001b[0m                 \u001b[1;32melse\u001b[0m\u001b[1;33m:\u001b[0m\u001b[1;33m\u001b[0m\u001b[1;33m\u001b[0m\u001b[0m\n\u001b[0;32m    144\u001b[0m                     \u001b[1;32mif\u001b[0m \u001b[0mwarn_on_unknown\u001b[0m\u001b[1;33m:\u001b[0m\u001b[1;33m\u001b[0m\u001b[1;33m\u001b[0m\u001b[0m\n",
      "\u001b[1;31mValueError\u001b[0m: Found unknown categories [0.713455319404602, 0.7515759468078613, 0.7728367447853088, 0.779241144657135, 0.7922800183296204, 0.802767813205719, 0.8260108828544617, 0.8428683280944824, 0.8645200133323669, 0.8817026615142822, 0.8923150300979614, 0.897708535194397, 0.9137015342712402, 0.9299815893173218, 0.940780758857727, 0.9497969746589661, 0.9518402218818665, 0.9589638113975525, 0.9704686999320984] in column 3 during transform"
     ]
    }
   ],
   "source": [
    "X2_train_n = pd.DataFrame(np.hstack((X2_trainn.to_numpy(), y1_train_pred)))\n",
    "X2_testt = pd.DataFrame(np.hstack((X2_test.to_numpy(), y1_test_pred)))\n",
    "X2_vall = pd.DataFrame(np.hstack((X2_val.to_numpy(), y1_val_pred)))\n",
    "\n",
    "encoder2 = OneHotEncoder()\n",
    "encoder2.fit(X2_train_n)\n",
    "\n",
    "# transform X_train and X_test into encoded matrices\n",
    "X2_trainn_encoded = encoder2.transform(X2_train_n)\n",
    "X2_testt_encoded = encoder2.transform(X2_testt)\n",
    "X2_vall_encoded = encoder2.transform(X2_vall)"
   ]
  },
  {
   "cell_type": "code",
   "execution_count": null,
   "metadata": {},
   "outputs": [],
   "source": []
  }
 ],
 "metadata": {
  "kernelspec": {
   "display_name": "base",
   "language": "python",
   "name": "python3"
  },
  "language_info": {
   "codemirror_mode": {
    "name": "ipython",
    "version": 3
   },
   "file_extension": ".py",
   "mimetype": "text/x-python",
   "name": "python",
   "nbconvert_exporter": "python",
   "pygments_lexer": "ipython3",
   "version": "3.9.13"
  },
  "orig_nbformat": 4
 },
 "nbformat": 4,
 "nbformat_minor": 2
}
