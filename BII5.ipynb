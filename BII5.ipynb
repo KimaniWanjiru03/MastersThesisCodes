{
 "cells": [
  {
   "attachments": {},
   "cell_type": "markdown",
   "metadata": {},
   "source": [
    "## USING  DECISION TREE"
   ]
  },
  {
   "cell_type": "code",
   "execution_count": 46,
   "metadata": {},
   "outputs": [],
   "source": [
    "import pandas as pd\n",
    "import numpy as np\n",
    "\n",
    "from sklearn.model_selection import train_test_split\n",
    "from sklearn.tree import DecisionTreeClassifier\n"
   ]
  },
  {
   "cell_type": "code",
   "execution_count": 47,
   "metadata": {},
   "outputs": [],
   "source": [
    "df = pd.read_csv('new_data3.csv')"
   ]
  },
  {
   "cell_type": "code",
   "execution_count": 48,
   "metadata": {},
   "outputs": [],
   "source": [
    "X_demograph = df.loc[:, ['Motive','Income Range','Gender','Education level','Number of Children','Age range','Occupation']]\n",
    "y_demograph = df['Insured']"
   ]
  },
  {
   "cell_type": "code",
   "execution_count": 49,
   "metadata": {},
   "outputs": [],
   "source": [
    "from imblearn.over_sampling import SMOTE\n",
    "\n",
    "smote = SMOTE()\n",
    "\n",
    "X_dem_resampled, y_dem_resampled = smote.fit_resample(X_demograph, y_demograph)\n"
   ]
  },
  {
   "cell_type": "code",
   "execution_count": 50,
   "metadata": {},
   "outputs": [],
   "source": [
    "X_train_dem, X_test_dem, y_train_dem, y_test_dem = train_test_split(X_dem_resampled,y_dem_resampled, test_size = 0.3)"
   ]
  },
  {
   "attachments": {},
   "cell_type": "markdown",
   "metadata": {},
   "source": [
    "**FITTING THE DEMOGRAPHIC MODEL**"
   ]
  },
  {
   "cell_type": "code",
   "execution_count": 51,
   "metadata": {},
   "outputs": [],
   "source": [
    "# create decision tree classifier\n",
    "dtd = DecisionTreeClassifier(random_state=50)\n",
    "\n",
    "# fit the model on the training data\n",
    "dtd.fit(X_train_dem, y_train_dem)\n",
    "\n",
    "# predict on the train set\n",
    "y_train_pred_dem = dtd.predict(X_train_dem)\n",
    "# predict on the test set\n",
    "y_test_pred_dem = dtd.predict(X_test_dem)"
   ]
  },
  {
   "cell_type": "code",
   "execution_count": 52,
   "metadata": {},
   "outputs": [
    {
     "name": "stdout",
     "output_type": "stream",
     "text": [
      "Accuracy: 0.775\n",
      "Precision: 0.85\n",
      "Recall: 0.7391304347826086\n",
      "F1-score: 0.7906976744186046\n"
     ]
    }
   ],
   "source": [
    "from sklearn.metrics import accuracy_score, precision_score, recall_score, f1_score\n",
    "\n",
    "\n",
    "# Calculate accuracy\n",
    "accuracy = accuracy_score(y_test_dem, y_test_pred_dem)\n",
    "print(\"Accuracy:\", accuracy)\n",
    "\n",
    "# Calculate precision\n",
    "precision = precision_score(y_test_dem, y_test_pred_dem)\n",
    "print(\"Precision:\", precision)\n",
    "\n",
    "# Calculate recall\n",
    "recall = recall_score(y_test_dem, y_test_pred_dem)\n",
    "print(\"Recall:\", recall)\n",
    "\n",
    "# Calculate F1-score\n",
    "f1 = f1_score(y_test_dem, y_test_pred_dem)\n",
    "print(\"F1-score:\", f1)\n"
   ]
  },
  {
   "cell_type": "code",
   "execution_count": 53,
   "metadata": {},
   "outputs": [
    {
     "name": "stdout",
     "output_type": "stream",
     "text": [
      "0.75 accuracy with a standard deviation of 0.10\n"
     ]
    }
   ],
   "source": [
    "from sklearn.model_selection import cross_val_score\n",
    "\n",
    "scored1 = cross_val_score(dtd, X_test_dem,y_test_dem,cv =3)\n",
    "print(\"%0.2f accuracy with a standard deviation of %0.2f\" % (scored1.mean(), scored1.std()))\n"
   ]
  },
  {
   "cell_type": "code",
   "execution_count": 54,
   "metadata": {},
   "outputs": [
    {
     "name": "stdout",
     "output_type": "stream",
     "text": [
      "Feature importance rankings:\n",
      "1. Feature: Income Range - Importance: 0.2976048965125364\n",
      "2. Feature: Motive - Importance: 0.2460615023622008\n",
      "3. Feature: Number of Children - Importance: 0.13703290988782388\n",
      "4. Feature: Education level - Importance: 0.11776213345452598\n",
      "5. Feature: Gender - Importance: 0.06798487812528378\n",
      "6. Feature: Age range - Importance: 0.06684078891977736\n",
      "7. Feature: Occupation - Importance: 0.06671289073785173\n"
     ]
    }
   ],
   "source": [
    "# Get feature importances\n",
    "importances = dtd.feature_importances_\n",
    "\n",
    "# Sort feature importances in descending order\n",
    "indices = np.argsort(importances)[::-1]\n",
    "\n",
    "# Print feature importance rankings\n",
    "print(\"Feature importance rankings:\")\n",
    "for i, index in enumerate(indices):\n",
    "    print(f\"{i+1}. Feature: {X_train_dem.columns[index]} - Importance: {importances[index]}\")"
   ]
  },
  {
   "cell_type": "code",
   "execution_count": null,
   "metadata": {},
   "outputs": [],
   "source": []
  }
 ],
 "metadata": {
  "kernelspec": {
   "display_name": "base",
   "language": "python",
   "name": "python3"
  },
  "language_info": {
   "codemirror_mode": {
    "name": "ipython",
    "version": 3
   },
   "file_extension": ".py",
   "mimetype": "text/x-python",
   "name": "python",
   "nbconvert_exporter": "python",
   "pygments_lexer": "ipython3",
   "version": "3.9.13"
  },
  "orig_nbformat": 4
 },
 "nbformat": 4,
 "nbformat_minor": 2
}
