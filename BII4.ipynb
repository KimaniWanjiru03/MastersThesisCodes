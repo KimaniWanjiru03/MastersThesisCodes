{
 "cells": [
  {
   "attachments": {},
   "cell_type": "markdown",
   "metadata": {},
   "source": [
    "## USING RANDOM FOREST"
   ]
  },
  {
   "cell_type": "code",
   "execution_count": 93,
   "metadata": {},
   "outputs": [],
   "source": [
    "import pandas as pd\n",
    "import numpy as np\n",
    "from sklearn.model_selection import train_test_split\n",
    "from sklearn.ensemble import RandomForestClassifier"
   ]
  },
  {
   "cell_type": "code",
   "execution_count": 94,
   "metadata": {},
   "outputs": [],
   "source": [
    "df = pd.read_csv('new_data3.csv')"
   ]
  },
  {
   "cell_type": "code",
   "execution_count": 95,
   "metadata": {},
   "outputs": [],
   "source": [
    "X_demograph = df.loc[:, ['Motive','Income Range','Gender','Education level','Number of Children','Age range','Occupation']]\n",
    "y_demograph = df['Insured']"
   ]
  },
  {
   "cell_type": "code",
   "execution_count": 96,
   "metadata": {},
   "outputs": [],
   "source": [
    "from imblearn.over_sampling import SMOTE\n",
    "smote = SMOTE()\n",
    "\n",
    "X_dem_resampled, y_dem_resampled = smote.fit_resample(X_demograph, y_demograph)"
   ]
  },
  {
   "cell_type": "code",
   "execution_count": 97,
   "metadata": {},
   "outputs": [],
   "source": [
    "X_train_dem, X_test_dem, y_train_dem, y_test_dem = train_test_split(X_dem_resampled,y_dem_resampled, test_size = 0.3)"
   ]
  },
  {
   "attachments": {},
   "cell_type": "markdown",
   "metadata": {},
   "source": [
    "**FITTING THE DEMOGRAPHIC MODEL**"
   ]
  },
  {
   "cell_type": "code",
   "execution_count": 98,
   "metadata": {},
   "outputs": [],
   "source": [
    "# initialize random forest classifier\n",
    "rfcd = RandomForestClassifier(n_estimators=100, random_state=25)\n",
    "\n",
    "# fit the model\n",
    "rfcd.fit(X_train_dem, y_train_dem)\n",
    "\n",
    "# predict on the train set\n",
    "y_train_pred_dem = rfcd.predict(X_train_dem)\n",
    "# predict on the test set\n",
    "y_test_pred_dem = rfcd.predict(X_test_dem)"
   ]
  },
  {
   "cell_type": "code",
   "execution_count": 99,
   "metadata": {},
   "outputs": [
    {
     "name": "stdout",
     "output_type": "stream",
     "text": [
      "Accuracy: 0.8\n",
      "Precision: 0.8235294117647058\n",
      "Recall: 0.7368421052631579\n",
      "F1-score: 0.7777777777777778\n"
     ]
    }
   ],
   "source": [
    "from sklearn.metrics import accuracy_score, precision_score, recall_score, f1_score\n",
    "\n",
    "# Accuracy\n",
    "accuracy = accuracy_score(y_test_dem, y_test_pred_dem)\n",
    "print(\"Accuracy:\", accuracy)\n",
    "\n",
    "# Precision\n",
    "precision = precision_score(y_test_dem, y_test_pred_dem)\n",
    "print(\"Precision:\", precision)\n",
    "\n",
    "# Recall\n",
    "recall = recall_score(y_test_dem, y_test_pred_dem)\n",
    "print(\"Recall:\", recall)\n",
    "\n",
    "# F1-score\n",
    "f1 = f1_score(y_test_dem, y_test_pred_dem)\n",
    "print(\"F1-score:\", f1)\n"
   ]
  },
  {
   "cell_type": "code",
   "execution_count": 100,
   "metadata": {},
   "outputs": [
    {
     "name": "stdout",
     "output_type": "stream",
     "text": [
      "0.82 accuracy with a standard deviation of 0.10\n"
     ]
    }
   ],
   "source": [
    "from sklearn.model_selection import cross_val_score\n",
    "\n",
    "scored1 = cross_val_score(rfcd, X_test_dem,y_test_dem,cv =5)\n",
    "print(\"%0.2f accuracy with a standard deviation of %0.2f\" % (scored1.mean(), scored1.std()))\n"
   ]
  },
  {
   "cell_type": "code",
   "execution_count": 101,
   "metadata": {},
   "outputs": [
    {
     "name": "stdout",
     "output_type": "stream",
     "text": [
      "Feature importance rankings:\n",
      "1. Feature: Income Range - Importance: 0.2630369760532254\n",
      "2. Feature: Education level - Importance: 0.20740882173965194\n",
      "3. Feature: Motive - Importance: 0.16165606531322205\n",
      "4. Feature: Number of Children - Importance: 0.15167537724675015\n",
      "5. Feature: Occupation - Importance: 0.08778110492622122\n",
      "6. Feature: Age range - Importance: 0.07293642988128919\n",
      "7. Feature: Gender - Importance: 0.055505224839640085\n"
     ]
    }
   ],
   "source": [
    "# Get feature importances\n",
    "importances = rfcd.feature_importances_\n",
    "\n",
    "# Sort feature importances in descending order\n",
    "indices = np.argsort(importances)[::-1]\n",
    "\n",
    "# Print feature importance rankings\n",
    "print(\"Feature importance rankings:\")\n",
    "for i, index in enumerate(indices):\n",
    "    print(f\"{i+1}. Feature: {X_train_dem.columns[index]} - Importance: {importances[index]}\")"
   ]
  },
  {
   "cell_type": "code",
   "execution_count": null,
   "metadata": {},
   "outputs": [],
   "source": []
  }
 ],
 "metadata": {
  "kernelspec": {
   "display_name": "base",
   "language": "python",
   "name": "python3"
  },
  "language_info": {
   "codemirror_mode": {
    "name": "ipython",
    "version": 3
   },
   "file_extension": ".py",
   "mimetype": "text/x-python",
   "name": "python",
   "nbconvert_exporter": "python",
   "pygments_lexer": "ipython3",
   "version": "3.9.13"
  },
  "orig_nbformat": 4
 },
 "nbformat": 4,
 "nbformat_minor": 2
}
