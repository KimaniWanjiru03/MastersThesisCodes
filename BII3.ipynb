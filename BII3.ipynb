{
 "cells": [
  {
   "cell_type": "code",
   "execution_count": 13,
   "metadata": {},
   "outputs": [],
   "source": [
    "import pandas as pd\n",
    "import numpy as np\n",
    "\n",
    "from sklearn.model_selection import train_test_split\n",
    "from sklearn.linear_model import LogisticRegression\n",
    "from sklearn.metrics import confusion_matrix\n",
    "# from sklearn.metrics import classification_report\n",
    "\n",
    "from sklearn.preprocessing import OneHotEncoder\n",
    "\n",
    "# from sklearn.metrics import precision_score, recall_score, f1_score\n",
    "# import statsmodels.api as sm\n",
    "\n",
    "\n",
    "import seaborn as sn\n",
    "from matplotlib import pyplot as plt\n"
   ]
  },
  {
   "cell_type": "code",
   "execution_count": 14,
   "metadata": {},
   "outputs": [],
   "source": [
    "df = pd.read_csv('new_data3.csv')"
   ]
  },
  {
   "cell_type": "code",
   "execution_count": 15,
   "metadata": {},
   "outputs": [
    {
     "data": {
      "text/plain": [
       "Index(['Insured', 'Motive', 'Gender', 'Age range', 'Occupation',\n",
       "       'Education level', 'Social Class', 'Area of Residence',\n",
       "       'Number of Adults', 'Number of Children', 'Income Range',\n",
       "       'Time of Cover', 'Number of Insurers', 'Premium', 'Method of Payment',\n",
       "       'Loss or Damage', 'Claim', 'Ability to Recover',\n",
       "       'Borrow money or sell assets to cover loss',\n",
       "       'Claim help to avoid debt or financial hardship',\n",
       "       'Claim help maintain income or business', 'Post claim capital range',\n",
       "       'Claim challenge', 'Claim challenge reason', 'Premium Change',\n",
       "       'Cost of Insurance ability to maintain payment',\n",
       "       'Effects of changes in premium on income or business'],\n",
       "      dtype='object')"
      ]
     },
     "execution_count": 15,
     "metadata": {},
     "output_type": "execute_result"
    }
   ],
   "source": [
    "df.columns"
   ]
  },
  {
   "attachments": {},
   "cell_type": "markdown",
   "metadata": {},
   "source": [
    "**RESTRUCTURE Post claim capital range**"
   ]
  },
  {
   "cell_type": "code",
   "execution_count": 16,
   "metadata": {},
   "outputs": [],
   "source": [
    "# replace values\n",
    "df['Post claim capital range'] = df['Post claim capital range'].replace({0: 0, 1: 0, 2: 0, 3: 0, 4: 0, 5: 1, 6: 1, 7: 1})"
   ]
  },
  {
   "cell_type": "code",
   "execution_count": 17,
   "metadata": {},
   "outputs": [],
   "source": [
    "# save updated data as CSV file\n",
    "df.to_csv('new_data5.csv', index=False)"
   ]
  },
  {
   "cell_type": "code",
   "execution_count": 18,
   "metadata": {},
   "outputs": [],
   "source": [
    "df = pd.read_csv('new_data5.csv')"
   ]
  },
  {
   "cell_type": "code",
   "execution_count": 19,
   "metadata": {},
   "outputs": [
    {
     "data": {
      "text/html": [
       "<div>\n",
       "<style scoped>\n",
       "    .dataframe tbody tr th:only-of-type {\n",
       "        vertical-align: middle;\n",
       "    }\n",
       "\n",
       "    .dataframe tbody tr th {\n",
       "        vertical-align: top;\n",
       "    }\n",
       "\n",
       "    .dataframe thead th {\n",
       "        text-align: right;\n",
       "    }\n",
       "</style>\n",
       "<table border=\"1\" class=\"dataframe\">\n",
       "  <thead>\n",
       "    <tr style=\"text-align: right;\">\n",
       "      <th></th>\n",
       "      <th>Insured</th>\n",
       "      <th>Motive</th>\n",
       "      <th>Gender</th>\n",
       "      <th>Age range</th>\n",
       "      <th>Occupation</th>\n",
       "      <th>Education level</th>\n",
       "      <th>Social Class</th>\n",
       "      <th>Area of Residence</th>\n",
       "      <th>Number of Adults</th>\n",
       "      <th>Number of Children</th>\n",
       "      <th>...</th>\n",
       "      <th>Ability to Recover</th>\n",
       "      <th>Borrow money or sell assets to cover loss</th>\n",
       "      <th>Claim help to avoid debt or financial hardship</th>\n",
       "      <th>Claim help maintain income or business</th>\n",
       "      <th>Post claim capital range</th>\n",
       "      <th>Claim challenge</th>\n",
       "      <th>Claim challenge reason</th>\n",
       "      <th>Premium Change</th>\n",
       "      <th>Cost of Insurance ability to maintain payment</th>\n",
       "      <th>Effects of changes in premium on income or business</th>\n",
       "    </tr>\n",
       "  </thead>\n",
       "  <tbody>\n",
       "    <tr>\n",
       "      <th>count</th>\n",
       "      <td>82.000000</td>\n",
       "      <td>82.000000</td>\n",
       "      <td>82.000000</td>\n",
       "      <td>82.000000</td>\n",
       "      <td>82.000000</td>\n",
       "      <td>82.000000</td>\n",
       "      <td>82.000000</td>\n",
       "      <td>82.000000</td>\n",
       "      <td>82.000000</td>\n",
       "      <td>82.000000</td>\n",
       "      <td>...</td>\n",
       "      <td>9.000000</td>\n",
       "      <td>12.000000</td>\n",
       "      <td>12.000000</td>\n",
       "      <td>12.000000</td>\n",
       "      <td>82.000000</td>\n",
       "      <td>15.000000</td>\n",
       "      <td>5.00000</td>\n",
       "      <td>82.000000</td>\n",
       "      <td>82.000000</td>\n",
       "      <td>82.000000</td>\n",
       "    </tr>\n",
       "    <tr>\n",
       "      <th>mean</th>\n",
       "      <td>0.195122</td>\n",
       "      <td>0.914634</td>\n",
       "      <td>0.548780</td>\n",
       "      <td>0.353659</td>\n",
       "      <td>0.390244</td>\n",
       "      <td>2.878049</td>\n",
       "      <td>1.353659</td>\n",
       "      <td>0.487805</td>\n",
       "      <td>1.500000</td>\n",
       "      <td>1.158537</td>\n",
       "      <td>...</td>\n",
       "      <td>0.444444</td>\n",
       "      <td>1.416667</td>\n",
       "      <td>0.250000</td>\n",
       "      <td>0.416667</td>\n",
       "      <td>0.524390</td>\n",
       "      <td>0.600000</td>\n",
       "      <td>1.20000</td>\n",
       "      <td>0.768293</td>\n",
       "      <td>1.048780</td>\n",
       "      <td>1.560976</td>\n",
       "    </tr>\n",
       "    <tr>\n",
       "      <th>std</th>\n",
       "      <td>0.398733</td>\n",
       "      <td>1.102200</td>\n",
       "      <td>0.500677</td>\n",
       "      <td>0.759661</td>\n",
       "      <td>0.490807</td>\n",
       "      <td>0.691933</td>\n",
       "      <td>1.179788</td>\n",
       "      <td>0.502927</td>\n",
       "      <td>1.188941</td>\n",
       "      <td>1.241957</td>\n",
       "      <td>...</td>\n",
       "      <td>0.527046</td>\n",
       "      <td>0.900337</td>\n",
       "      <td>0.452267</td>\n",
       "      <td>0.514929</td>\n",
       "      <td>0.502478</td>\n",
       "      <td>0.507093</td>\n",
       "      <td>1.30384</td>\n",
       "      <td>0.424519</td>\n",
       "      <td>1.350834</td>\n",
       "      <td>1.905791</td>\n",
       "    </tr>\n",
       "    <tr>\n",
       "      <th>min</th>\n",
       "      <td>0.000000</td>\n",
       "      <td>0.000000</td>\n",
       "      <td>0.000000</td>\n",
       "      <td>0.000000</td>\n",
       "      <td>0.000000</td>\n",
       "      <td>1.000000</td>\n",
       "      <td>0.000000</td>\n",
       "      <td>0.000000</td>\n",
       "      <td>0.000000</td>\n",
       "      <td>0.000000</td>\n",
       "      <td>...</td>\n",
       "      <td>0.000000</td>\n",
       "      <td>0.000000</td>\n",
       "      <td>0.000000</td>\n",
       "      <td>0.000000</td>\n",
       "      <td>0.000000</td>\n",
       "      <td>0.000000</td>\n",
       "      <td>0.00000</td>\n",
       "      <td>0.000000</td>\n",
       "      <td>0.000000</td>\n",
       "      <td>0.000000</td>\n",
       "    </tr>\n",
       "    <tr>\n",
       "      <th>25%</th>\n",
       "      <td>0.000000</td>\n",
       "      <td>0.000000</td>\n",
       "      <td>0.000000</td>\n",
       "      <td>0.000000</td>\n",
       "      <td>0.000000</td>\n",
       "      <td>3.000000</td>\n",
       "      <td>0.000000</td>\n",
       "      <td>0.000000</td>\n",
       "      <td>0.000000</td>\n",
       "      <td>0.000000</td>\n",
       "      <td>...</td>\n",
       "      <td>0.000000</td>\n",
       "      <td>0.750000</td>\n",
       "      <td>0.000000</td>\n",
       "      <td>0.000000</td>\n",
       "      <td>0.000000</td>\n",
       "      <td>0.000000</td>\n",
       "      <td>0.00000</td>\n",
       "      <td>1.000000</td>\n",
       "      <td>0.000000</td>\n",
       "      <td>0.000000</td>\n",
       "    </tr>\n",
       "    <tr>\n",
       "      <th>50%</th>\n",
       "      <td>0.000000</td>\n",
       "      <td>0.000000</td>\n",
       "      <td>1.000000</td>\n",
       "      <td>0.000000</td>\n",
       "      <td>0.000000</td>\n",
       "      <td>3.000000</td>\n",
       "      <td>2.000000</td>\n",
       "      <td>0.000000</td>\n",
       "      <td>1.000000</td>\n",
       "      <td>1.000000</td>\n",
       "      <td>...</td>\n",
       "      <td>0.000000</td>\n",
       "      <td>2.000000</td>\n",
       "      <td>0.000000</td>\n",
       "      <td>0.000000</td>\n",
       "      <td>1.000000</td>\n",
       "      <td>1.000000</td>\n",
       "      <td>1.00000</td>\n",
       "      <td>1.000000</td>\n",
       "      <td>0.500000</td>\n",
       "      <td>1.000000</td>\n",
       "    </tr>\n",
       "    <tr>\n",
       "      <th>75%</th>\n",
       "      <td>0.000000</td>\n",
       "      <td>2.000000</td>\n",
       "      <td>1.000000</td>\n",
       "      <td>0.000000</td>\n",
       "      <td>1.000000</td>\n",
       "      <td>3.000000</td>\n",
       "      <td>2.000000</td>\n",
       "      <td>1.000000</td>\n",
       "      <td>3.000000</td>\n",
       "      <td>2.000000</td>\n",
       "      <td>...</td>\n",
       "      <td>1.000000</td>\n",
       "      <td>2.000000</td>\n",
       "      <td>0.250000</td>\n",
       "      <td>1.000000</td>\n",
       "      <td>1.000000</td>\n",
       "      <td>1.000000</td>\n",
       "      <td>2.00000</td>\n",
       "      <td>1.000000</td>\n",
       "      <td>2.000000</td>\n",
       "      <td>3.000000</td>\n",
       "    </tr>\n",
       "    <tr>\n",
       "      <th>max</th>\n",
       "      <td>1.000000</td>\n",
       "      <td>3.000000</td>\n",
       "      <td>1.000000</td>\n",
       "      <td>3.000000</td>\n",
       "      <td>1.000000</td>\n",
       "      <td>4.000000</td>\n",
       "      <td>3.000000</td>\n",
       "      <td>1.000000</td>\n",
       "      <td>3.000000</td>\n",
       "      <td>3.000000</td>\n",
       "      <td>...</td>\n",
       "      <td>1.000000</td>\n",
       "      <td>2.000000</td>\n",
       "      <td>1.000000</td>\n",
       "      <td>1.000000</td>\n",
       "      <td>1.000000</td>\n",
       "      <td>1.000000</td>\n",
       "      <td>3.00000</td>\n",
       "      <td>1.000000</td>\n",
       "      <td>4.000000</td>\n",
       "      <td>5.000000</td>\n",
       "    </tr>\n",
       "  </tbody>\n",
       "</table>\n",
       "<p>8 rows × 27 columns</p>\n",
       "</div>"
      ],
      "text/plain": [
       "         Insured     Motive     Gender  Age range  Occupation  \\\n",
       "count  82.000000  82.000000  82.000000  82.000000   82.000000   \n",
       "mean    0.195122   0.914634   0.548780   0.353659    0.390244   \n",
       "std     0.398733   1.102200   0.500677   0.759661    0.490807   \n",
       "min     0.000000   0.000000   0.000000   0.000000    0.000000   \n",
       "25%     0.000000   0.000000   0.000000   0.000000    0.000000   \n",
       "50%     0.000000   0.000000   1.000000   0.000000    0.000000   \n",
       "75%     0.000000   2.000000   1.000000   0.000000    1.000000   \n",
       "max     1.000000   3.000000   1.000000   3.000000    1.000000   \n",
       "\n",
       "       Education level  Social Class  Area of Residence  Number of Adults  \\\n",
       "count        82.000000     82.000000          82.000000         82.000000   \n",
       "mean          2.878049      1.353659           0.487805          1.500000   \n",
       "std           0.691933      1.179788           0.502927          1.188941   \n",
       "min           1.000000      0.000000           0.000000          0.000000   \n",
       "25%           3.000000      0.000000           0.000000          0.000000   \n",
       "50%           3.000000      2.000000           0.000000          1.000000   \n",
       "75%           3.000000      2.000000           1.000000          3.000000   \n",
       "max           4.000000      3.000000           1.000000          3.000000   \n",
       "\n",
       "       Number of Children  ...  Ability to Recover  \\\n",
       "count           82.000000  ...            9.000000   \n",
       "mean             1.158537  ...            0.444444   \n",
       "std              1.241957  ...            0.527046   \n",
       "min              0.000000  ...            0.000000   \n",
       "25%              0.000000  ...            0.000000   \n",
       "50%              1.000000  ...            0.000000   \n",
       "75%              2.000000  ...            1.000000   \n",
       "max              3.000000  ...            1.000000   \n",
       "\n",
       "       Borrow money or sell assets to cover loss  \\\n",
       "count                                  12.000000   \n",
       "mean                                    1.416667   \n",
       "std                                     0.900337   \n",
       "min                                     0.000000   \n",
       "25%                                     0.750000   \n",
       "50%                                     2.000000   \n",
       "75%                                     2.000000   \n",
       "max                                     2.000000   \n",
       "\n",
       "       Claim help to avoid debt or financial hardship  \\\n",
       "count                                       12.000000   \n",
       "mean                                         0.250000   \n",
       "std                                          0.452267   \n",
       "min                                          0.000000   \n",
       "25%                                          0.000000   \n",
       "50%                                          0.000000   \n",
       "75%                                          0.250000   \n",
       "max                                          1.000000   \n",
       "\n",
       "       Claim help maintain income or business  Post claim capital range  \\\n",
       "count                               12.000000                 82.000000   \n",
       "mean                                 0.416667                  0.524390   \n",
       "std                                  0.514929                  0.502478   \n",
       "min                                  0.000000                  0.000000   \n",
       "25%                                  0.000000                  0.000000   \n",
       "50%                                  0.000000                  1.000000   \n",
       "75%                                  1.000000                  1.000000   \n",
       "max                                  1.000000                  1.000000   \n",
       "\n",
       "       Claim challenge  Claim challenge reason  Premium Change  \\\n",
       "count        15.000000                 5.00000       82.000000   \n",
       "mean          0.600000                 1.20000        0.768293   \n",
       "std           0.507093                 1.30384        0.424519   \n",
       "min           0.000000                 0.00000        0.000000   \n",
       "25%           0.000000                 0.00000        1.000000   \n",
       "50%           1.000000                 1.00000        1.000000   \n",
       "75%           1.000000                 2.00000        1.000000   \n",
       "max           1.000000                 3.00000        1.000000   \n",
       "\n",
       "       Cost of Insurance ability to maintain payment  \\\n",
       "count                                      82.000000   \n",
       "mean                                        1.048780   \n",
       "std                                         1.350834   \n",
       "min                                         0.000000   \n",
       "25%                                         0.000000   \n",
       "50%                                         0.500000   \n",
       "75%                                         2.000000   \n",
       "max                                         4.000000   \n",
       "\n",
       "       Effects of changes in premium on income or business  \n",
       "count                                          82.000000    \n",
       "mean                                            1.560976    \n",
       "std                                             1.905791    \n",
       "min                                             0.000000    \n",
       "25%                                             0.000000    \n",
       "50%                                             1.000000    \n",
       "75%                                             3.000000    \n",
       "max                                             5.000000    \n",
       "\n",
       "[8 rows x 27 columns]"
      ]
     },
     "execution_count": 19,
     "metadata": {},
     "output_type": "execute_result"
    }
   ],
   "source": [
    "df.describe()"
   ]
  },
  {
   "attachments": {},
   "cell_type": "markdown",
   "metadata": {},
   "source": [
    "## USING LOGISTIC REGRESSION"
   ]
  },
  {
   "cell_type": "code",
   "execution_count": 20,
   "metadata": {},
   "outputs": [],
   "source": [
    "X = df.loc[:, ['Motive','Income Range','Gender','Education level','Number of Children','Time of Cover','Premium','Claim','Insured']]\n",
    "y = df['Post claim capital range']"
   ]
  },
  {
   "cell_type": "code",
   "execution_count": 21,
   "metadata": {},
   "outputs": [],
   "source": [
    "X_all_train, X_all_test, y_all_train, y_all_test = train_test_split(X,y, test_size = 0.3)"
   ]
  },
  {
   "attachments": {},
   "cell_type": "markdown",
   "metadata": {},
   "source": [
    "**FIT THE WHOLE MODEL**"
   ]
  },
  {
   "cell_type": "code",
   "execution_count": 22,
   "metadata": {},
   "outputs": [],
   "source": [
    "# fit encoder on X_train\n",
    "# from sklearn.preprocessing import OneHotEncoder\n",
    "\n",
    "encoder = OneHotEncoder()\n",
    "encoder.fit(X_all_train)\n",
    "\n",
    "# transform X_train and X_test into encoded matrices\n",
    "X_all_train_encoded = encoder.transform(X_all_train)\n",
    "X_all_test_encoded = encoder.transform(X_all_test)"
   ]
  },
  {
   "cell_type": "code",
   "execution_count": 23,
   "metadata": {},
   "outputs": [],
   "source": [
    "# create the logistic regression model\n",
    "logreg = LogisticRegression(random_state=50, multi_class='multinomial', solver='lbfgs',max_iter = 10000)\n",
    "# logreg = LogisticRegression(random_state=50)\n",
    "\n",
    "# fit the logistic regression model to the training data\n",
    "# fit the model\n",
    "logreg.fit(X_all_train_encoded, y_all_train)\n",
    "\n",
    "# predict on the test set\n",
    "y_train_pred = logreg.predict(X_all_train_encoded)\n",
    "y_test_pred = logreg.predict(X_all_test_encoded)"
   ]
  },
  {
   "cell_type": "code",
   "execution_count": 24,
   "metadata": {},
   "outputs": [
    {
     "name": "stdout",
     "output_type": "stream",
     "text": [
      "Accuracy: 0.96\n"
     ]
    }
   ],
   "source": [
    "# evaluate the model\n",
    "score = logreg.score(X_all_test_encoded, y_all_test)\n",
    "\n",
    "cmr = confusion_matrix(y_all_test, y_test_pred)\n",
    "print('Accuracy:', score)\n"
   ]
  },
  {
   "cell_type": "code",
   "execution_count": 47,
   "metadata": {},
   "outputs": [],
   "source": [
    "# import numpy as np\n",
    "# X_train_encoded2 = X_all_train_encoded.toarray()\n",
    "# y_train = np.array(y_all_train)\n",
    "\n",
    "# logit_model = sm.MNLogit(y_train, X_train_encoded2)\n",
    "# result2 = logit_model.fit(maxiter=10000)\n",
    "# print(result2.summary())"
   ]
  },
  {
   "cell_type": "code",
   "execution_count": 25,
   "metadata": {},
   "outputs": [],
   "source": [
    "# Identify significant variables\n",
    "# sig_vars2 = pd.DataFrame(result2.pvalues[result2.pvalues < 0.05]).index\n",
    "# print(\"Significant variables:\", sig_vars2)"
   ]
  },
  {
   "attachments": {},
   "cell_type": "markdown",
   "metadata": {},
   "source": [
    "**SPLITTING THE MODEL**"
   ]
  },
  {
   "cell_type": "code",
   "execution_count": 26,
   "metadata": {},
   "outputs": [],
   "source": [
    "# X1 = df.loc[:, ['Motive','Income Range','Gender','Education level','Number of Children']]\n",
    "# y1 = df['Insured']\n",
    "\n",
    "X1_train = X_all_train.loc[:,['Motive','Income Range','Gender','Education level','Number of Children']]\n",
    "y1_train = X_all_train['Insured']\n",
    "\n",
    "X1_test = X_all_test.loc[:,['Motive','Income Range','Gender','Education level','Number of Children']]\n",
    "y1_test = X_all_test['Insured']"
   ]
  },
  {
   "cell_type": "code",
   "execution_count": 27,
   "metadata": {},
   "outputs": [],
   "source": [
    "# X1_train, X1_test, y1_train, y1_test = train_test_split(X1,y1, test_size = 0.3)\n"
   ]
  },
  {
   "cell_type": "code",
   "execution_count": 28,
   "metadata": {},
   "outputs": [],
   "source": [
    "encoder2 = OneHotEncoder()\n",
    "encoder2.fit(X1_train)\n",
    "\n",
    "# transform X_train and X_test into encoded matrices\n",
    "X1_train_encoded = encoder2.transform(X1_train)\n",
    "X1_test_encoded = encoder2.transform(X1_test)"
   ]
  },
  {
   "cell_type": "code",
   "execution_count": 29,
   "metadata": {},
   "outputs": [],
   "source": [
    "# create the logistic regression model\n",
    "logreg2 = LogisticRegression(random_state=50)\n",
    "\n",
    "# fit the logistic regression model to the training data\n",
    "# fit the model\n",
    "logreg2.fit(X1_train_encoded, y1_train)\n",
    "\n",
    "# predict on the test set\n",
    "y1_train_pred = logreg2.predict(X1_train_encoded)\n",
    "y1_test_pred = logreg2.predict(X1_test_encoded)"
   ]
  },
  {
   "cell_type": "code",
   "execution_count": 30,
   "metadata": {},
   "outputs": [
    {
     "name": "stdout",
     "output_type": "stream",
     "text": [
      "Accuracy: 0.8\n"
     ]
    }
   ],
   "source": [
    "score = logreg2.score(X1_test_encoded, y1_test)\n",
    "\n",
    "cmr = confusion_matrix(y1_test, y1_test_pred)\n",
    "print('Accuracy:', score)"
   ]
  },
  {
   "cell_type": "code",
   "execution_count": null,
   "metadata": {},
   "outputs": [],
   "source": [
    "# X2 = df.loc[:,['Time of Cover','Premium','Claim']]\n",
    "# y2 = df['Post claim capital range']\n",
    "\n",
    "X2_t = X_all_train.loc[:,['Time of Cover','Premium','Claim']]\n",
    "X2_train = pd.DataFrame(np.hstack((X2_t.to_numpy(), y1_train_pred.reshape(-1, 1))))\n",
    "\n",
    "X2_te  = X_all_test.loc[:,['Time of Cover','Premium','Claim']]\n",
    "X2_test = pd.DataFrame(np.hstack((X2_te.to_numpy(), y1_test_pred.reshape(-1, 1))))"
   ]
  },
  {
   "cell_type": "code",
   "execution_count": null,
   "metadata": {},
   "outputs": [],
   "source": [
    "# X2_t, X2_te, y2_train, y2_test = train_test_split(X2,y2, test_size = 0.3)"
   ]
  },
  {
   "cell_type": "code",
   "execution_count": null,
   "metadata": {},
   "outputs": [],
   "source": [
    "# X2_train = pd.DataFrame(np.hstack((X2_t.to_numpy(), y1_train_pred.reshape(-1, 1))))\n",
    "# X2_test = pd.DataFrame(np.hstack((X2_te.to_numpy(), y1_test_pred.reshape(-1, 1))))\n",
    "\n",
    "encoder3 = OneHotEncoder()\n",
    "encoder3.fit(X2_train)\n",
    "\n",
    "# transform X_train and X_test into encoded matrices\n",
    "X2_train_encoded = encoder3.transform(X2_train)\n",
    "X2_test_encoded = encoder3.transform(X2_test)"
   ]
  },
  {
   "cell_type": "code",
   "execution_count": null,
   "metadata": {},
   "outputs": [
    {
     "data": {
      "text/plain": [
       "LogisticRegression(random_state=50)"
      ]
     },
     "execution_count": 24,
     "metadata": {},
     "output_type": "execute_result"
    }
   ],
   "source": [
    "# fit the model\n",
    "# logreg2 = LogisticRegression(random_state=50, multi_class='multinomial', solver='lbfgs')\n",
    "\n",
    "logreg3 = LogisticRegression(random_state=50)\n",
    "logreg3.fit(X2_train_encoded, y_all_train)"
   ]
  },
  {
   "cell_type": "code",
   "execution_count": null,
   "metadata": {},
   "outputs": [
    {
     "name": "stdout",
     "output_type": "stream",
     "text": [
      "Accuracy: 0.5066666666666667\n"
     ]
    }
   ],
   "source": [
    "# predict on the test set\n",
    "\n",
    "y2_pred = logreg3.predict(X2_test_encoded)\n",
    "# evaluate the model\n",
    "\n",
    "score = logreg3.score(X2_test_encoded, y_all_test)\n",
    "\n",
    "cmr = confusion_matrix(y_all_test, y2_pred)\n",
    "print('Accuracy:', score)\n"
   ]
  },
  {
   "cell_type": "code",
   "execution_count": null,
   "metadata": {},
   "outputs": [
    {
     "data": {
      "text/plain": [
       "Text(33.22222222222222, 0.5, 'Predicted Value')"
      ]
     },
     "execution_count": 29,
     "metadata": {},
     "output_type": "execute_result"
    },
    {
     "data": {
      "image/png": "[encoded data removed]",
      "text/plain": [
       "<Figure size 500x400 with 2 Axes>"
      ]
     },
     "metadata": {},
     "output_type": "display_data"
    }
   ],
   "source": [
    "plt.figure(figsize=(5,4))\n",
    "sn.heatmap(cmr, annot = True)\n",
    "plt.xlabel('Actual Value')\n",
    "plt.ylabel('Predicted Value')"
   ]
  },
  {
   "cell_type": "code",
   "execution_count": null,
   "metadata": {},
   "outputs": [
    {
     "name": "stdout",
     "output_type": "stream",
     "text": [
      "Optimization terminated successfully.\n",
      "         Current function value: 0.672050\n",
      "         Iterations 78\n",
      "                          MNLogit Regression Results                          \n",
      "==============================================================================\n",
      "Dep. Variable:                      y   No. Observations:                  350\n",
      "Model:                        MNLogit   Df Residuals:                      342\n",
      "Method:                           MLE   Df Model:                            7\n",
      "Date:                Tue, 02 May 2023   Pseudo R-squ.:                 0.01075\n",
      "Time:                        12:29:50   Log-Likelihood:                -235.22\n",
      "converged:                       True   LL-Null:                       -237.77\n",
      "Covariance Type:            nonrobust   LLR p-value:                    0.6462\n",
      "==============================================================================\n",
      "       y=1       coef    std err          z      P>|z|      [0.025      0.975]\n",
      "------------------------------------------------------------------------------\n",
      "x1            -0.3538        nan        nan        nan         nan         nan\n",
      "x2            -0.0894        nan        nan        nan         nan         nan\n",
      "x3             1.2328        nan        nan        nan         nan         nan\n",
      "x4            -0.4256        nan        nan        nan         nan         nan\n",
      "x5             0.0641        nan        nan        nan         nan         nan\n",
      "x6             0.2239        nan        nan        nan         nan         nan\n",
      "x7            -0.0999        nan        nan        nan         nan         nan\n",
      "x8             0.1758        nan        nan        nan         nan         nan\n",
      "x9             0.1572        nan        nan        nan         nan         nan\n",
      "x10            0.2067        nan        nan        nan         nan         nan\n",
      "const          0.3640   8.78e+06   4.15e-08      1.000   -1.72e+07    1.72e+07\n",
      "==============================================================================\n"
     ]
    },
    {
     "name": "stderr",
     "output_type": "stream",
     "text": [
      "c:\\Users\\Academic\\anaconda3\\lib\\site-packages\\statsmodels\\discrete\\discrete_model.py:4247: RuntimeWarning: invalid value encountered in sqrt\n",
      "  bse = np.sqrt(np.diag(self.cov_params()))\n"
     ]
    }
   ],
   "source": [
    "import numpy as np\n",
    "X_train_encoded2 = X2_train_encoded.toarray()\n",
    "y_train = np.array(y_all_train)\n",
    "\n",
    "logit_model = sm.MNLogit(y_train, X_train_encoded2)\n",
    "result = logit_model.fit(maxiter=10000)\n",
    "print(result.summary())"
   ]
  },
  {
   "cell_type": "code",
   "execution_count": null,
   "metadata": {},
   "outputs": [
    {
     "name": "stdout",
     "output_type": "stream",
     "text": [
      "Significant variables: RangeIndex(start=0, stop=0, step=1)\n"
     ]
    }
   ],
   "source": [
    "# Identify significant variables\n",
    "sig_vars = pd.DataFrame(result.pvalues[result.pvalues < 0.05]).index\n",
    "print(\"Significant variables:\", sig_vars)"
   ]
  }
 ],
 "metadata": {
  "kernelspec": {
   "display_name": "base",
   "language": "python",
   "name": "python3"
  },
  "language_info": {
   "codemirror_mode": {
    "name": "ipython",
    "version": 3
   },
   "file_extension": ".py",
   "mimetype": "text/x-python",
   "name": "python",
   "nbconvert_exporter": "python",
   "pygments_lexer": "ipython3",
   "version": "3.9.13"
  },
  "orig_nbformat": 4
 },
 "nbformat": 4,
 "nbformat_minor": 2
}
